{
 "cells": [
  {
   "cell_type": "code",
   "execution_count": 1,
   "id": "057c2ca3",
   "metadata": {},
   "outputs": [],
   "source": [
    "import pandas as pd\n",
    "from datetime import datetime"
   ]
  },
  {
   "cell_type": "code",
   "execution_count": 2,
   "id": "e68dcf8c",
   "metadata": {},
   "outputs": [
    {
     "data": {
      "text/html": [
       "<div>\n",
       "<style scoped>\n",
       "    .dataframe tbody tr th:only-of-type {\n",
       "        vertical-align: middle;\n",
       "    }\n",
       "\n",
       "    .dataframe tbody tr th {\n",
       "        vertical-align: top;\n",
       "    }\n",
       "\n",
       "    .dataframe thead th {\n",
       "        text-align: right;\n",
       "    }\n",
       "</style>\n",
       "<table border=\"1\" class=\"dataframe\">\n",
       "  <thead>\n",
       "    <tr style=\"text-align: right;\">\n",
       "      <th></th>\n",
       "      <th>No. Pesanan</th>\n",
       "      <th>Status Pesanan</th>\n",
       "      <th>Opsi Pengiriman</th>\n",
       "      <th>Antar ke counter/ pick-up</th>\n",
       "      <th>Waktu</th>\n",
       "      <th>Nama Produk</th>\n",
       "      <th>Pendapatan</th>\n",
       "      <th>Jumlah Produk di Pesan</th>\n",
       "      <th>Total Berat</th>\n",
       "      <th>Total Pembayaran</th>\n",
       "      <th>Perkiraan Ongkos Kirim</th>\n",
       "      <th>Username (Pembeli)</th>\n",
       "      <th>Kota/Kabupaten</th>\n",
       "      <th>Provinsi</th>\n",
       "      <th>Unnamed: 14</th>\n",
       "      <th>Unnamed: 15</th>\n",
       "      <th>Unnamed: 16</th>\n",
       "    </tr>\n",
       "  </thead>\n",
       "  <tbody>\n",
       "    <tr>\n",
       "      <th>0</th>\n",
       "      <td>200720U69AERNK</td>\n",
       "      <td>Selesai</td>\n",
       "      <td>J&amp;T Express</td>\n",
       "      <td>Antar ke Counter</td>\n",
       "      <td>2020-07-20 15:54</td>\n",
       "      <td>Stiker Fragile Biasa 6 x 4 cm</td>\n",
       "      <td>10000.0</td>\n",
       "      <td>400</td>\n",
       "      <td>400 gr</td>\n",
       "      <td>43.750</td>\n",
       "      <td>7.0</td>\n",
       "      <td>murapol</td>\n",
       "      <td>KOTA SURABAYA</td>\n",
       "      <td>JAWA TIMUR</td>\n",
       "      <td>NaN</td>\n",
       "      <td>NaN</td>\n",
       "      <td>NaN</td>\n",
       "    </tr>\n",
       "  </tbody>\n",
       "</table>\n",
       "</div>"
      ],
      "text/plain": [
       "      No. Pesanan Status Pesanan Opsi Pengiriman Antar ke counter/ pick-up  \\\n",
       "0  200720U69AERNK        Selesai     J&T Express          Antar ke Counter   \n",
       "\n",
       "              Waktu                    Nama Produk  Pendapatan  \\\n",
       "0  2020-07-20 15:54  Stiker Fragile Biasa 6 x 4 cm     10000.0   \n",
       "\n",
       "   Jumlah Produk di Pesan Total Berat Total Pembayaran  \\\n",
       "0                     400      400 gr           43.750   \n",
       "\n",
       "   Perkiraan Ongkos Kirim Username (Pembeli) Kota/Kabupaten    Provinsi  \\\n",
       "0                     7.0            murapol  KOTA SURABAYA  JAWA TIMUR   \n",
       "\n",
       "   Unnamed: 14  Unnamed: 15  Unnamed: 16  \n",
       "0          NaN          NaN          NaN  "
      ]
     },
     "execution_count": 2,
     "metadata": {},
     "output_type": "execute_result"
    }
   ],
   "source": [
    "data = pd.read_csv('C:/Users/LENOVO/OneDrive - Universitas Airlangga/Project/Shopee Abang Stiker/salesdata.csv')\n",
    "data.head(1)"
   ]
  },
  {
   "cell_type": "markdown",
   "id": "0d550a58",
   "metadata": {},
   "source": [
    "# EDA & Data Pre - Processing"
   ]
  },
  {
   "cell_type": "code",
   "execution_count": 3,
   "id": "4cd66fec",
   "metadata": {},
   "outputs": [
    {
     "data": {
      "text/html": [
       "<div>\n",
       "<style scoped>\n",
       "    .dataframe tbody tr th:only-of-type {\n",
       "        vertical-align: middle;\n",
       "    }\n",
       "\n",
       "    .dataframe tbody tr th {\n",
       "        vertical-align: top;\n",
       "    }\n",
       "\n",
       "    .dataframe thead th {\n",
       "        text-align: right;\n",
       "    }\n",
       "</style>\n",
       "<table border=\"1\" class=\"dataframe\">\n",
       "  <thead>\n",
       "    <tr style=\"text-align: right;\">\n",
       "      <th></th>\n",
       "      <th>Waktu</th>\n",
       "      <th>Pendapatan</th>\n",
       "    </tr>\n",
       "  </thead>\n",
       "  <tbody>\n",
       "    <tr>\n",
       "      <th>0</th>\n",
       "      <td>2020-07-20 15:54</td>\n",
       "      <td>10000.0</td>\n",
       "    </tr>\n",
       "    <tr>\n",
       "      <th>1</th>\n",
       "      <td>2020-07-20 15:54</td>\n",
       "      <td>10000.0</td>\n",
       "    </tr>\n",
       "    <tr>\n",
       "      <th>2</th>\n",
       "      <td>2020-07-20 15:54</td>\n",
       "      <td>10000.0</td>\n",
       "    </tr>\n",
       "    <tr>\n",
       "      <th>3</th>\n",
       "      <td>2020-07-20 15:54</td>\n",
       "      <td>19000.0</td>\n",
       "    </tr>\n",
       "    <tr>\n",
       "      <th>4</th>\n",
       "      <td>2020-07-21 05:36</td>\n",
       "      <td>30000.0</td>\n",
       "    </tr>\n",
       "    <tr>\n",
       "      <th>...</th>\n",
       "      <td>...</td>\n",
       "      <td>...</td>\n",
       "    </tr>\n",
       "    <tr>\n",
       "      <th>3123</th>\n",
       "      <td>2022-08-31 00:03</td>\n",
       "      <td>598.0</td>\n",
       "    </tr>\n",
       "    <tr>\n",
       "      <th>3124</th>\n",
       "      <td>2022-08-31 15:52</td>\n",
       "      <td>897.0</td>\n",
       "    </tr>\n",
       "    <tr>\n",
       "      <th>3125</th>\n",
       "      <td>2022-08-31 15:52</td>\n",
       "      <td>897.0</td>\n",
       "    </tr>\n",
       "    <tr>\n",
       "      <th>3126</th>\n",
       "      <td>2022-08-31 15:55</td>\n",
       "      <td>897.0</td>\n",
       "    </tr>\n",
       "    <tr>\n",
       "      <th>3127</th>\n",
       "      <td>2022-08-31 15:55</td>\n",
       "      <td>897.0</td>\n",
       "    </tr>\n",
       "  </tbody>\n",
       "</table>\n",
       "<p>3128 rows × 2 columns</p>\n",
       "</div>"
      ],
      "text/plain": [
       "                 Waktu  Pendapatan\n",
       "0     2020-07-20 15:54     10000.0\n",
       "1     2020-07-20 15:54     10000.0\n",
       "2     2020-07-20 15:54     10000.0\n",
       "3     2020-07-20 15:54     19000.0\n",
       "4     2020-07-21 05:36     30000.0\n",
       "...                ...         ...\n",
       "3123  2022-08-31 00:03       598.0\n",
       "3124  2022-08-31 15:52       897.0\n",
       "3125  2022-08-31 15:52       897.0\n",
       "3126  2022-08-31 15:55       897.0\n",
       "3127  2022-08-31 15:55       897.0\n",
       "\n",
       "[3128 rows x 2 columns]"
      ]
     },
     "execution_count": 3,
     "metadata": {},
     "output_type": "execute_result"
    }
   ],
   "source": [
    "c = ['No. Pesanan', 'Status Pesanan', 'Opsi Pengiriman',\n",
    "       'Antar ke counter/ pick-up','Nama Produk', 'Jumlah Produk di Pesan', 'Total Berat',\n",
    "       'Total Pembayaran', 'Perkiraan Ongkos Kirim', 'Username (Pembeli)',\n",
    "       'Kota/Kabupaten', 'Provinsi','Unnamed: 14','Unnamed: 15','Unnamed: 16']\n",
    "data = data.drop(c,axis=1,inplace=False)\n",
    "data"
   ]
  },
  {
   "cell_type": "code",
   "execution_count": 4,
   "id": "895702dc",
   "metadata": {},
   "outputs": [
    {
     "data": {
      "text/plain": [
       "Waktu          object\n",
       "Pendapatan    float64\n",
       "dtype: object"
      ]
     },
     "execution_count": 4,
     "metadata": {},
     "output_type": "execute_result"
    }
   ],
   "source": [
    "data.dtypes"
   ]
  },
  {
   "cell_type": "code",
   "execution_count": 5,
   "id": "37917164",
   "metadata": {},
   "outputs": [
    {
     "data": {
      "text/plain": [
       "Waktu         datetime64[ns]\n",
       "Pendapatan           float64\n",
       "dtype: object"
      ]
     },
     "execution_count": 5,
     "metadata": {},
     "output_type": "execute_result"
    }
   ],
   "source": [
    "data.Waktu = pd.to_datetime(data.Waktu)\n",
    "data.dtypes"
   ]
  },
  {
   "cell_type": "code",
   "execution_count": 6,
   "id": "c2a7627e",
   "metadata": {},
   "outputs": [
    {
     "data": {
      "text/html": [
       "<div>\n",
       "<style scoped>\n",
       "    .dataframe tbody tr th:only-of-type {\n",
       "        vertical-align: middle;\n",
       "    }\n",
       "\n",
       "    .dataframe tbody tr th {\n",
       "        vertical-align: top;\n",
       "    }\n",
       "\n",
       "    .dataframe thead th {\n",
       "        text-align: right;\n",
       "    }\n",
       "</style>\n",
       "<table border=\"1\" class=\"dataframe\">\n",
       "  <thead>\n",
       "    <tr style=\"text-align: right;\">\n",
       "      <th></th>\n",
       "      <th>Pendapatan</th>\n",
       "    </tr>\n",
       "    <tr>\n",
       "      <th>Waktu</th>\n",
       "      <th></th>\n",
       "    </tr>\n",
       "  </thead>\n",
       "  <tbody>\n",
       "    <tr>\n",
       "      <th>2020-07-20 15:54:00</th>\n",
       "      <td>10000.0</td>\n",
       "    </tr>\n",
       "    <tr>\n",
       "      <th>2020-07-20 15:54:00</th>\n",
       "      <td>10000.0</td>\n",
       "    </tr>\n",
       "    <tr>\n",
       "      <th>2020-07-20 15:54:00</th>\n",
       "      <td>10000.0</td>\n",
       "    </tr>\n",
       "    <tr>\n",
       "      <th>2020-07-20 15:54:00</th>\n",
       "      <td>19000.0</td>\n",
       "    </tr>\n",
       "    <tr>\n",
       "      <th>2020-07-21 05:36:00</th>\n",
       "      <td>30000.0</td>\n",
       "    </tr>\n",
       "    <tr>\n",
       "      <th>...</th>\n",
       "      <td>...</td>\n",
       "    </tr>\n",
       "    <tr>\n",
       "      <th>2022-08-31 00:03:00</th>\n",
       "      <td>598.0</td>\n",
       "    </tr>\n",
       "    <tr>\n",
       "      <th>2022-08-31 15:52:00</th>\n",
       "      <td>897.0</td>\n",
       "    </tr>\n",
       "    <tr>\n",
       "      <th>2022-08-31 15:52:00</th>\n",
       "      <td>897.0</td>\n",
       "    </tr>\n",
       "    <tr>\n",
       "      <th>2022-08-31 15:55:00</th>\n",
       "      <td>897.0</td>\n",
       "    </tr>\n",
       "    <tr>\n",
       "      <th>2022-08-31 15:55:00</th>\n",
       "      <td>897.0</td>\n",
       "    </tr>\n",
       "  </tbody>\n",
       "</table>\n",
       "<p>3128 rows × 1 columns</p>\n",
       "</div>"
      ],
      "text/plain": [
       "                     Pendapatan\n",
       "Waktu                          \n",
       "2020-07-20 15:54:00     10000.0\n",
       "2020-07-20 15:54:00     10000.0\n",
       "2020-07-20 15:54:00     10000.0\n",
       "2020-07-20 15:54:00     19000.0\n",
       "2020-07-21 05:36:00     30000.0\n",
       "...                         ...\n",
       "2022-08-31 00:03:00       598.0\n",
       "2022-08-31 15:52:00       897.0\n",
       "2022-08-31 15:52:00       897.0\n",
       "2022-08-31 15:55:00       897.0\n",
       "2022-08-31 15:55:00       897.0\n",
       "\n",
       "[3128 rows x 1 columns]"
      ]
     },
     "execution_count": 6,
     "metadata": {},
     "output_type": "execute_result"
    }
   ],
   "source": [
    "data=data.set_index('Waktu',drop=True)\n",
    "data"
   ]
  },
  {
   "cell_type": "code",
   "execution_count": 7,
   "id": "ce97c531",
   "metadata": {},
   "outputs": [
    {
     "data": {
      "text/html": [
       "<div>\n",
       "<style scoped>\n",
       "    .dataframe tbody tr th:only-of-type {\n",
       "        vertical-align: middle;\n",
       "    }\n",
       "\n",
       "    .dataframe tbody tr th {\n",
       "        vertical-align: top;\n",
       "    }\n",
       "\n",
       "    .dataframe thead th {\n",
       "        text-align: right;\n",
       "    }\n",
       "</style>\n",
       "<table border=\"1\" class=\"dataframe\">\n",
       "  <thead>\n",
       "    <tr style=\"text-align: right;\">\n",
       "      <th></th>\n",
       "      <th>Pendapatan</th>\n",
       "    </tr>\n",
       "    <tr>\n",
       "      <th>Waktu</th>\n",
       "      <th></th>\n",
       "    </tr>\n",
       "  </thead>\n",
       "  <tbody>\n",
       "    <tr>\n",
       "      <th>2020-07-26</th>\n",
       "      <td>270900.0</td>\n",
       "    </tr>\n",
       "    <tr>\n",
       "      <th>2020-08-02</th>\n",
       "      <td>40000.0</td>\n",
       "    </tr>\n",
       "    <tr>\n",
       "      <th>2020-08-09</th>\n",
       "      <td>214500.0</td>\n",
       "    </tr>\n",
       "    <tr>\n",
       "      <th>2020-08-16</th>\n",
       "      <td>178000.0</td>\n",
       "    </tr>\n",
       "    <tr>\n",
       "      <th>2020-08-23</th>\n",
       "      <td>155000.0</td>\n",
       "    </tr>\n",
       "  </tbody>\n",
       "</table>\n",
       "</div>"
      ],
      "text/plain": [
       "            Pendapatan\n",
       "Waktu                 \n",
       "2020-07-26    270900.0\n",
       "2020-08-02     40000.0\n",
       "2020-08-09    214500.0\n",
       "2020-08-16    178000.0\n",
       "2020-08-23    155000.0"
      ]
     },
     "execution_count": 7,
     "metadata": {},
     "output_type": "execute_result"
    }
   ],
   "source": [
    "data = data[['Pendapatan']].resample('W').sum()\n",
    "data.head()"
   ]
  },
  {
   "cell_type": "code",
   "execution_count": 8,
   "id": "5f0d16f5",
   "metadata": {},
   "outputs": [
    {
     "data": {
      "text/plain": [
       "<AxesSubplot:xlabel='Waktu'>"
      ]
     },
     "execution_count": 8,
     "metadata": {},
     "output_type": "execute_result"
    },
    {
     "data": {
      "image/png": "[encoded data removed]",
      "text/plain": [
       "<Figure size 1080x288 with 1 Axes>"
      ]
     },
     "metadata": {
      "needs_background": "light"
     },
     "output_type": "display_data"
    }
   ],
   "source": [
    "data['Pendapatan'].plot(figsize=(15,4))"
   ]
  },
  {
   "cell_type": "markdown",
   "id": "e78b8ddd",
   "metadata": {},
   "source": [
    "# Dickey Fuller Test"
   ]
  },
  {
   "cell_type": "code",
   "execution_count": 9,
   "id": "2c71e053",
   "metadata": {},
   "outputs": [],
   "source": [
    "from statsmodels.tsa.stattools import adfuller"
   ]
  },
  {
   "cell_type": "code",
   "execution_count": 10,
   "id": "4503944e",
   "metadata": {},
   "outputs": [],
   "source": [
    "def adf_test(series):\n",
    "    result=adfuller(series)\n",
    "    print('ADF Statistics: {}'.format(result[0]))\n",
    "    print('p- value: {}'.format(result[1]))\n",
    "    if result[1] <= 0.05:\n",
    "        print(\"Terdapat bukti yang kuat untuk menolak H0. Data bersifat stationary\")\n",
    "    else:\n",
    "        print(\"Gagal tolak H0, terdapat indikasi non-stationary \")"
   ]
  },
  {
   "cell_type": "code",
   "execution_count": 11,
   "id": "d30f8b8e",
   "metadata": {},
   "outputs": [
    {
     "name": "stdout",
     "output_type": "stream",
     "text": [
      "ADF Statistics: -5.479577762540429\n",
      "p- value: 2.300424506436343e-06\n",
      "Terdapat bukti yang kuat untuk menolak H0. Data bersifat stationary\n"
     ]
    }
   ],
   "source": [
    "adf_test(data.Pendapatan)"
   ]
  },
  {
   "cell_type": "markdown",
   "id": "0efa3159",
   "metadata": {},
   "source": [
    "# PACF & ACF Plot"
   ]
  },
  {
   "cell_type": "code",
   "execution_count": 12,
   "id": "ac678aea",
   "metadata": {},
   "outputs": [],
   "source": [
    "from statsmodels.graphics.tsaplots import plot_acf,plot_pacf"
   ]
  },
  {
   "cell_type": "code",
   "execution_count": 13,
   "id": "a3483696",
   "metadata": {},
   "outputs": [
    {
     "name": "stderr",
     "output_type": "stream",
     "text": [
      "E:\\Anaconda\\lib\\site-packages\\statsmodels\\graphics\\tsaplots.py:348: FutureWarning: The default method 'yw' can produce PACF values outside of the [-1,1] interval. After 0.13, the default will change tounadjusted Yule-Walker ('ywm'). You can use this method now by setting method='ywm'.\n",
      "  warnings.warn(\n"
     ]
    },
    {
     "data": {
      "image/png": "[encoded data removed]",
      "text/plain": [
       "<Figure size 432x288 with 1 Axes>"
      ]
     },
     "metadata": {
      "needs_background": "light"
     },
     "output_type": "display_data"
    },
    {
     "data": {
      "image/png": "[encoded data removed]",
      "text/plain": [
       "<Figure size 432x288 with 1 Axes>"
      ]
     },
     "metadata": {
      "needs_background": "light"
     },
     "output_type": "display_data"
    }
   ],
   "source": [
    "acf = plot_acf(data[\"Pendapatan\"].dropna())\n",
    "pacf = plot_pacf(data[\"Pendapatan\"].dropna())"
   ]
  },
  {
   "cell_type": "markdown",
   "id": "1b4eab9b",
   "metadata": {},
   "source": [
    "# Dividing Train Test Data"
   ]
  },
  {
   "cell_type": "code",
   "execution_count": 14,
   "id": "9989b06b",
   "metadata": {},
   "outputs": [],
   "source": [
    "from datetime import datetime,timedelta\n",
    "train_dataset_end=datetime(2021,9,1)\n",
    "test_dataset_end=datetime(2022,9,1)"
   ]
  },
  {
   "cell_type": "code",
   "execution_count": 15,
   "id": "a553adc0",
   "metadata": {},
   "outputs": [],
   "source": [
    "train_data=data[:train_dataset_end]\n",
    "test_data=data[train_dataset_end+timedelta(days=1):test_dataset_end]"
   ]
  },
  {
   "cell_type": "code",
   "execution_count": 16,
   "id": "c6b3413d",
   "metadata": {},
   "outputs": [],
   "source": [
    "##prediction\n",
    "pred_start_date=test_data.index[0]\n",
    "pred_end_date=test_data.index[-1]"
   ]
  },
  {
   "cell_type": "code",
   "execution_count": 17,
   "id": "63454340",
   "metadata": {},
   "outputs": [
    {
     "data": {
      "text/html": [
       "<div>\n",
       "<style scoped>\n",
       "    .dataframe tbody tr th:only-of-type {\n",
       "        vertical-align: middle;\n",
       "    }\n",
       "\n",
       "    .dataframe tbody tr th {\n",
       "        vertical-align: top;\n",
       "    }\n",
       "\n",
       "    .dataframe thead th {\n",
       "        text-align: right;\n",
       "    }\n",
       "</style>\n",
       "<table border=\"1\" class=\"dataframe\">\n",
       "  <thead>\n",
       "    <tr style=\"text-align: right;\">\n",
       "      <th></th>\n",
       "      <th>Pendapatan</th>\n",
       "    </tr>\n",
       "    <tr>\n",
       "      <th>Waktu</th>\n",
       "      <th></th>\n",
       "    </tr>\n",
       "  </thead>\n",
       "  <tbody>\n",
       "    <tr>\n",
       "      <th>2021-09-05</th>\n",
       "      <td>211990.0</td>\n",
       "    </tr>\n",
       "    <tr>\n",
       "      <th>2021-09-12</th>\n",
       "      <td>801684.0</td>\n",
       "    </tr>\n",
       "    <tr>\n",
       "      <th>2021-09-19</th>\n",
       "      <td>376125.0</td>\n",
       "    </tr>\n",
       "    <tr>\n",
       "      <th>2021-09-26</th>\n",
       "      <td>261175.0</td>\n",
       "    </tr>\n",
       "    <tr>\n",
       "      <th>2021-10-03</th>\n",
       "      <td>246000.0</td>\n",
       "    </tr>\n",
       "  </tbody>\n",
       "</table>\n",
       "</div>"
      ],
      "text/plain": [
       "            Pendapatan\n",
       "Waktu                 \n",
       "2021-09-05    211990.0\n",
       "2021-09-12    801684.0\n",
       "2021-09-19    376125.0\n",
       "2021-09-26    261175.0\n",
       "2021-10-03    246000.0"
      ]
     },
     "execution_count": 17,
     "metadata": {},
     "output_type": "execute_result"
    }
   ],
   "source": [
    "test_data.head()"
   ]
  },
  {
   "cell_type": "markdown",
   "id": "943cbc33",
   "metadata": {},
   "source": [
    "# Create SARIMAX Model"
   ]
  },
  {
   "cell_type": "code",
   "execution_count": 18,
   "id": "f453dfb8",
   "metadata": {},
   "outputs": [],
   "source": [
    "from statsmodels.tsa.statespace.sarimax import SARIMAX"
   ]
  },
  {
   "cell_type": "code",
   "execution_count": 70,
   "id": "71005581",
   "metadata": {},
   "outputs": [],
   "source": [
    "model_SARIMAX=SARIMAX(train_data['Pendapatan'],order=(2,0,2),seasonal_order=(0,1,0,7))"
   ]
  },
  {
   "cell_type": "code",
   "execution_count": 71,
   "id": "c67e764e",
   "metadata": {},
   "outputs": [],
   "source": [
    "model_SARIMAX_fit=model_SARIMAX.fit()"
   ]
  },
  {
   "cell_type": "code",
   "execution_count": 72,
   "id": "75566140",
   "metadata": {},
   "outputs": [
    {
     "data": {
      "text/html": [
       "<table class=\"simpletable\">\n",
       "<caption>SARIMAX Results</caption>\n",
       "<tr>\n",
       "  <th>Dep. Variable:</th>             <td>Pendapatan</td>           <th>  No. Observations:  </th>    <td>58</td>   \n",
       "</tr>\n",
       "<tr>\n",
       "  <th>Model:</th>           <td>SARIMAX(2, 0, 2)x(0, 1, [], 7)</td> <th>  Log Likelihood     </th> <td>-763.111</td>\n",
       "</tr>\n",
       "<tr>\n",
       "  <th>Date:</th>                   <td>Sat, 10 Sep 2022</td>        <th>  AIC                </th> <td>1536.222</td>\n",
       "</tr>\n",
       "<tr>\n",
       "  <th>Time:</th>                       <td>21:48:34</td>            <th>  BIC                </th> <td>1545.881</td>\n",
       "</tr>\n",
       "<tr>\n",
       "  <th>Sample:</th>                    <td>07-26-2020</td>           <th>  HQIC               </th> <td>1539.913</td>\n",
       "</tr>\n",
       "<tr>\n",
       "  <th></th>                          <td>- 08-29-2021</td>          <th>                     </th>     <td> </td>   \n",
       "</tr>\n",
       "<tr>\n",
       "  <th>Covariance Type:</th>               <td>opg</td>              <th>                     </th>     <td> </td>   \n",
       "</tr>\n",
       "</table>\n",
       "<table class=\"simpletable\">\n",
       "<tr>\n",
       "     <td></td>       <th>coef</th>     <th>std err</th>      <th>z</th>      <th>P>|z|</th>  <th>[0.025</th>    <th>0.975]</th>  \n",
       "</tr>\n",
       "<tr>\n",
       "  <th>ar.L1</th>  <td>    0.1503</td> <td>    2.481</td> <td>    0.061</td> <td> 0.952</td> <td>   -4.713</td> <td>    5.014</td>\n",
       "</tr>\n",
       "<tr>\n",
       "  <th>ar.L2</th>  <td>    0.2168</td> <td>    0.968</td> <td>    0.224</td> <td> 0.823</td> <td>   -1.680</td> <td>    2.114</td>\n",
       "</tr>\n",
       "<tr>\n",
       "  <th>ma.L1</th>  <td>    0.1964</td> <td>    2.477</td> <td>    0.079</td> <td> 0.937</td> <td>   -4.659</td> <td>    5.052</td>\n",
       "</tr>\n",
       "<tr>\n",
       "  <th>ma.L2</th>  <td>   -0.1803</td> <td>    0.381</td> <td>   -0.473</td> <td> 0.636</td> <td>   -0.927</td> <td>    0.567</td>\n",
       "</tr>\n",
       "<tr>\n",
       "  <th>sigma2</th> <td> 4.722e+11</td> <td> 1.51e-11</td> <td> 3.13e+22</td> <td> 0.000</td> <td> 4.72e+11</td> <td> 4.72e+11</td>\n",
       "</tr>\n",
       "</table>\n",
       "<table class=\"simpletable\">\n",
       "<tr>\n",
       "  <th>Ljung-Box (L1) (Q):</th>     <td>0.00</td> <th>  Jarque-Bera (JB):  </th> <td>9.27</td>\n",
       "</tr>\n",
       "<tr>\n",
       "  <th>Prob(Q):</th>                <td>0.95</td> <th>  Prob(JB):          </th> <td>0.01</td>\n",
       "</tr>\n",
       "<tr>\n",
       "  <th>Heteroskedasticity (H):</th> <td>0.54</td> <th>  Skew:              </th> <td>0.37</td>\n",
       "</tr>\n",
       "<tr>\n",
       "  <th>Prob(H) (two-sided):</th>    <td>0.22</td> <th>  Kurtosis:          </th> <td>4.95</td>\n",
       "</tr>\n",
       "</table><br/><br/>Warnings:<br/>[1] Covariance matrix calculated using the outer product of gradients (complex-step).<br/>[2] Covariance matrix is singular or near-singular, with condition number 9.46e+38. Standard errors may be unstable."
      ],
      "text/plain": [
       "<class 'statsmodels.iolib.summary.Summary'>\n",
       "\"\"\"\n",
       "                                     SARIMAX Results                                      \n",
       "==========================================================================================\n",
       "Dep. Variable:                         Pendapatan   No. Observations:                   58\n",
       "Model:             SARIMAX(2, 0, 2)x(0, 1, [], 7)   Log Likelihood                -763.111\n",
       "Date:                            Sat, 10 Sep 2022   AIC                           1536.222\n",
       "Time:                                    21:48:34   BIC                           1545.881\n",
       "Sample:                                07-26-2020   HQIC                          1539.913\n",
       "                                     - 08-29-2021                                         \n",
       "Covariance Type:                              opg                                         \n",
       "==============================================================================\n",
       "                 coef    std err          z      P>|z|      [0.025      0.975]\n",
       "------------------------------------------------------------------------------\n",
       "ar.L1          0.1503      2.481      0.061      0.952      -4.713       5.014\n",
       "ar.L2          0.2168      0.968      0.224      0.823      -1.680       2.114\n",
       "ma.L1          0.1964      2.477      0.079      0.937      -4.659       5.052\n",
       "ma.L2         -0.1803      0.381     -0.473      0.636      -0.927       0.567\n",
       "sigma2      4.722e+11   1.51e-11   3.13e+22      0.000    4.72e+11    4.72e+11\n",
       "===================================================================================\n",
       "Ljung-Box (L1) (Q):                   0.00   Jarque-Bera (JB):                 9.27\n",
       "Prob(Q):                              0.95   Prob(JB):                         0.01\n",
       "Heteroskedasticity (H):               0.54   Skew:                             0.37\n",
       "Prob(H) (two-sided):                  0.22   Kurtosis:                         4.95\n",
       "===================================================================================\n",
       "\n",
       "Warnings:\n",
       "[1] Covariance matrix calculated using the outer product of gradients (complex-step).\n",
       "[2] Covariance matrix is singular or near-singular, with condition number 9.46e+38. Standard errors may be unstable.\n",
       "\"\"\""
      ]
     },
     "execution_count": 72,
     "metadata": {},
     "output_type": "execute_result"
    }
   ],
   "source": [
    "model_SARIMAX_fit.summary()"
   ]
  },
  {
   "cell_type": "code",
   "execution_count": 73,
   "id": "67ba7b7a",
   "metadata": {},
   "outputs": [
    {
     "name": "stdout",
     "output_type": "stream",
     "text": [
      "2021-09-05 00:00:00\n",
      "2022-08-28 00:00:00\n"
     ]
    }
   ],
   "source": [
    "##prediction\n",
    "pred_start_date=test_data.index[0]\n",
    "pred_end_date=test_data.index[-1]\n",
    "print(pred_start_date)\n",
    "print(pred_end_date)"
   ]
  },
  {
   "cell_type": "code",
   "execution_count": 74,
   "id": "d2bed3bf",
   "metadata": {},
   "outputs": [],
   "source": [
    "pred_Sarima=model_SARIMAX_fit.predict(start=datetime(2021,9,5),end=datetime(2022,8,28))\n",
    "residuals=test_data['Pendapatan']-pred_Sarima"
   ]
  },
  {
   "cell_type": "code",
   "execution_count": 75,
   "id": "b6743b34",
   "metadata": {},
   "outputs": [
    {
     "data": {
      "text/plain": [
       "<AxesSubplot:xlabel='Waktu'>"
      ]
     },
     "execution_count": 75,
     "metadata": {},
     "output_type": "execute_result"
    },
    {
     "data": {
      "image/png": "[encoded data removed]",
      "text/plain": [
       "<Figure size 432x288 with 1 Axes>"
      ]
     },
     "metadata": {
      "needs_background": "light"
     },
     "output_type": "display_data"
    }
   ],
   "source": [
    "model_SARIMAX_fit.resid.plot()"
   ]
  },
  {
   "cell_type": "code",
   "execution_count": 76,
   "id": "3c074152",
   "metadata": {},
   "outputs": [
    {
     "data": {
      "text/plain": [
       "<AxesSubplot:ylabel='Density'>"
      ]
     },
     "execution_count": 76,
     "metadata": {},
     "output_type": "execute_result"
    },
    {
     "data": {
      "image/png": "[encoded data removed]",
      "text/plain": [
       "<Figure size 432x288 with 1 Axes>"
      ]
     },
     "metadata": {
      "needs_background": "light"
     },
     "output_type": "display_data"
    }
   ],
   "source": [
    "model_SARIMAX_fit.resid.plot(kind='kde')"
   ]
  },
  {
   "cell_type": "code",
   "execution_count": 77,
   "id": "b5e839ee",
   "metadata": {},
   "outputs": [
    {
     "name": "stderr",
     "output_type": "stream",
     "text": [
      "C:\\Users\\LENOVO\\AppData\\Local\\Temp\\ipykernel_13396\\1367177785.py:1: SettingWithCopyWarning: \n",
      "A value is trying to be set on a copy of a slice from a DataFrame.\n",
      "Try using .loc[row_indexer,col_indexer] = value instead\n",
      "\n",
      "See the caveats in the documentation: https://pandas.pydata.org/pandas-docs/stable/user_guide/indexing.html#returning-a-view-versus-a-copy\n",
      "  test_data['Predicted_SARIMA']=pred_Sarima\n"
     ]
    }
   ],
   "source": [
    "test_data['Predicted_SARIMA']=pred_Sarima"
   ]
  },
  {
   "cell_type": "code",
   "execution_count": 78,
   "id": "bc4aa7d9",
   "metadata": {},
   "outputs": [
    {
     "data": {
      "text/html": [
       "<div>\n",
       "<style scoped>\n",
       "    .dataframe tbody tr th:only-of-type {\n",
       "        vertical-align: middle;\n",
       "    }\n",
       "\n",
       "    .dataframe tbody tr th {\n",
       "        vertical-align: top;\n",
       "    }\n",
       "\n",
       "    .dataframe thead th {\n",
       "        text-align: right;\n",
       "    }\n",
       "</style>\n",
       "<table border=\"1\" class=\"dataframe\">\n",
       "  <thead>\n",
       "    <tr style=\"text-align: right;\">\n",
       "      <th></th>\n",
       "      <th>Pendapatan</th>\n",
       "      <th>Predicted_SARIMA</th>\n",
       "    </tr>\n",
       "    <tr>\n",
       "      <th>Waktu</th>\n",
       "      <th></th>\n",
       "      <th></th>\n",
       "    </tr>\n",
       "  </thead>\n",
       "  <tbody>\n",
       "    <tr>\n",
       "      <th>2021-09-05</th>\n",
       "      <td>211990.0</td>\n",
       "      <td>376515.189021</td>\n",
       "    </tr>\n",
       "    <tr>\n",
       "      <th>2021-09-12</th>\n",
       "      <td>801684.0</td>\n",
       "      <td>92470.303187</td>\n",
       "    </tr>\n",
       "    <tr>\n",
       "      <th>2021-09-19</th>\n",
       "      <td>376125.0</td>\n",
       "      <td>30628.539156</td>\n",
       "    </tr>\n",
       "    <tr>\n",
       "      <th>2021-09-26</th>\n",
       "      <td>261175.0</td>\n",
       "      <td>153850.093996</td>\n",
       "    </tr>\n",
       "    <tr>\n",
       "      <th>2021-10-03</th>\n",
       "      <td>246000.0</td>\n",
       "      <td>27202.509681</td>\n",
       "    </tr>\n",
       "  </tbody>\n",
       "</table>\n",
       "</div>"
      ],
      "text/plain": [
       "            Pendapatan  Predicted_SARIMA\n",
       "Waktu                                   \n",
       "2021-09-05    211990.0     376515.189021\n",
       "2021-09-12    801684.0      92470.303187\n",
       "2021-09-19    376125.0      30628.539156\n",
       "2021-09-26    261175.0     153850.093996\n",
       "2021-10-03    246000.0      27202.509681"
      ]
     },
     "execution_count": 78,
     "metadata": {},
     "output_type": "execute_result"
    }
   ],
   "source": [
    "test_data.head()"
   ]
  },
  {
   "cell_type": "code",
   "execution_count": 79,
   "id": "ea3fffdb",
   "metadata": {},
   "outputs": [
    {
     "data": {
      "text/plain": [
       "<AxesSubplot:xlabel='Waktu'>"
      ]
     },
     "execution_count": 79,
     "metadata": {},
     "output_type": "execute_result"
    },
    {
     "data": {
      "image/png": "[encoded data removed]",
      "text/plain": [
       "<Figure size 432x288 with 1 Axes>"
      ]
     },
     "metadata": {
      "needs_background": "light"
     },
     "output_type": "display_data"
    }
   ],
   "source": [
    "test_data[['Pendapatan','Predicted_SARIMA']].plot()"
   ]
  }
 ],
 "metadata": {
  "kernelspec": {
   "display_name": "Python 3 (ipykernel)",
   "language": "python",
   "name": "python3"
  },
  "language_info": {
   "codemirror_mode": {
    "name": "ipython",
    "version": 3
   },
   "file_extension": ".py",
   "mimetype": "text/x-python",
   "name": "python",
   "nbconvert_exporter": "python",
   "pygments_lexer": "ipython3",
   "version": "3.9.12"
  }
 },
 "nbformat": 4,
 "nbformat_minor": 5
}
